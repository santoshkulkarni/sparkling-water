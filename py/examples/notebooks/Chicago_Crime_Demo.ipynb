{
 "cells": [
  {
   "cell_type": "code",
   "execution_count": 21,
   "metadata": {
    "collapsed": false
   },
   "outputs": [
    {
     "data": {
      "text/plain": [
       "<pyspark.context.SparkContext at 0x11244c110>"
      ]
     },
     "execution_count": 21,
     "metadata": {},
     "output_type": "execute_result"
    }
   ],
   "source": [
    "sc"
   ]
  },
  {
   "cell_type": "code",
   "execution_count": 152,
   "metadata": {
    "collapsed": true
   },
   "outputs": [],
   "source": [
    "import csv\n",
    "from StringIO import StringIO\n",
    "from pyspark import SparkConf, SparkContext\n",
    "from pyspark.sql import SQLContext, Row\n",
    "from pyspark.sql.functions import udf\n",
    "from pyspark.sql.functions import *\n",
    "from datetime import datetime\n",
    "from pyspark.sql.types import TimestampType\n",
    "sqlContext = SQLContext(sc)"
   ]
  },
  {
   "cell_type": "code",
   "execution_count": 153,
   "metadata": {
    "collapsed": true
   },
   "outputs": [],
   "source": [
    "def split(line):\n",
    "    \"\"\"\n",
    "    Operator function for splitting a line with csv module\n",
    "    \"\"\"\n",
    "    reader = csv.reader(StringIO(line))\n",
    "    return reader.next()\n",
    "\n"
   ]
  },
  {
   "cell_type": "code",
   "execution_count": 155,
   "metadata": {
    "collapsed": false
   },
   "outputs": [
    {
     "name": "stdout",
     "output_type": "stream",
     "text": [
      "[Row(Arrest=u'true', Beat=422, Community_Area=46, District=u'004', Domestic=u'false', FBI_Code=u'18', IUCR=u'1811', Location_Description=u'STREET', Primary_Type=u'NARCOTICS', Ward=7, date=u'02/08/2015', timestamp=datetime.datetime(2015, 2, 8, 23, 43, 40), Day=8, Month=2, Year=2015, HourOfDay=23, WeekNum=6, Season=3, dow=u'Sunday', Weekend=1, WeekDay=7), Row(Arrest=u'true', Beat=522, Community_Area=53, District=u'005', Domestic=u'true', FBI_Code=u'08B', IUCR=u'0486', Location_Description=u'APARTMENT', Primary_Type=u'BATTERY', Ward=34, date=u'02/08/2015', timestamp=datetime.datetime(2015, 2, 8, 23, 41, 42), Day=8, Month=2, Year=2015, HourOfDay=23, WeekNum=6, Season=3, dow=u'Sunday', Weekend=1, WeekDay=7)]\n"
     ]
    },
    {
     "data": {
      "text/plain": [
       "2928"
      ]
     },
     "execution_count": 155,
     "metadata": {},
     "output_type": "execute_result"
    }
   ],
   "source": [
    "# Chicago Crime dataset \n",
    "#Note: 1. bug in h2o-parse(PUBDEV-2213), converts alphanumeric to missing values in columns IUCR and FBI_Code\n",
    "#      2. converted district to string bec of missing value\n",
    "data = sc.textFile(\"/Users/nidhimehta/sparkling-water/examples/smalldata/chicagoCrimes10k.csv\")\n",
    "data.first()\n",
    "#remove header\n",
    "header = data.take(1)[0]\n",
    "rows = data.filter(lambda line: line != header)\n",
    "rows.first()\n",
    "rows = rows.map(split)\n",
    "\n",
    "aa = rows.map(lambda c: Row(date=(c[2]),IUCR = c[4],Primary_Type=c[5],Location_Description=c[7],Arrest=c[8],\\\n",
    "                                  Domestic = c[9],Beat = int(c[10]),District = (c[11]),Ward = int(c[12]),\\\n",
    "                                  Community_Area = int(c[13]),FBI_Code =c[14]))\n",
    "chicagoCrime = sqlContext.createDataFrame(aa)\n",
    "\n",
    "# Create Additional Columns from datetime\n",
    "#Day Month Year HourofDay WeekNum\n",
    "def parse_dt():\n",
    "    def _parse(dt):\n",
    "        return datetime.strptime(dt, '%m/%d/%Y %I:%M:%S %p')\n",
    "    return udf(_parse, TimestampType())\n",
    "\n",
    "chicagoCrime = chicagoCrime.withColumn(\"timestamp\", parse_dt()(chicagoCrime.date))\n",
    "chicagoCrime = chicagoCrime.withColumn(\"Day\", dayofmonth(chicagoCrime.timestamp))\n",
    "chicagoCrime = chicagoCrime.withColumn(\"Month\", month(chicagoCrime.timestamp))\n",
    "chicagoCrime = chicagoCrime.withColumn(\"Year\", year(chicagoCrime.timestamp))\n",
    "chicagoCrime = chicagoCrime.withColumn(\"HourOfDay\", hour(chicagoCrime.timestamp))\n",
    "chicagoCrime = chicagoCrime.withColumn(\"WeekNum\", weekofyear(chicagoCrime.timestamp))\n",
    "\n",
    "#Seasons\n",
    "from pyspark.sql.types import IntegerType\n",
    "def season_dt():\n",
    "    def _season(dt):\n",
    "        if (dt >= 3 and dt <= 5):   #Spring\n",
    "            return 0\n",
    "        elif (dt >= 6 and dt <= 8): #Summer\n",
    "            return 1\n",
    "        elif (dt >= 9 and dt <= 10):#Autumn\n",
    "            return 2\n",
    "        else:                       #Winter\n",
    "            return 3\n",
    "    return udf(_season, IntegerType())\n",
    "chicagoCrime = chicagoCrime.withColumn(\"Season\", season_dt()(chicagoCrime.Month))\n",
    "\n",
    "#Day Of Week\n",
    "from pyspark.sql.types import StringType\n",
    "def reparse_dt():\n",
    "    def _reparse(dt):\n",
    "        return datetime.strftime(dt, '%m/%d/%Y')\n",
    "    return udf(_reparse, StringType())\n",
    "\n",
    "chicagoCrime = chicagoCrime.withColumn(\"date\", reparse_dt()(chicagoCrime.timestamp))\n",
    "chicagoCrime = chicagoCrime.withColumn(\"dow\",from_unixtime(unix_timestamp(chicagoCrime.date,\"MM/dd/yyyy\"), \"EEEEE\"))\n",
    "\n",
    "#Weekend\n",
    "def is_weekend():\n",
    "    def _is_weekend(dt):\n",
    "        if (dt == 'Sunday' or dt == 'Saturday'):  #weekend\n",
    "            return 1\n",
    "        else:                       \n",
    "            return 0                              #no weekend\n",
    "    return udf(_is_weekend, IntegerType())\n",
    "chicagoCrime = chicagoCrime.withColumn(\"Weekend\", is_weekend()(chicagoCrime.dow))\n",
    "\n",
    "#Weekday\n",
    "def weekday():\n",
    "    def _weekday(dt):\n",
    "        if (dt == 'Sunday' ):  \n",
    "            return 7\n",
    "        elif (dt == 'Saturday'): \n",
    "            return 6\n",
    "        elif (dt == 'Friday'):\n",
    "            return 5\n",
    "        elif (dt == 'Thursday'):\n",
    "            return 4\n",
    "        elif (dt == 'Wednesday'):\n",
    "            return 3\n",
    "        elif (dt == 'Tuesday'):\n",
    "            return 2\n",
    "        else:                       \n",
    "            return 1                             \n",
    "    return udf(_weekday, IntegerType())\n",
    "\n",
    "chicagoCrime = chicagoCrime.withColumn(\"WeekDay\", weekday()(chicagoCrime.dow))\n",
    "\n",
    "print(chicagoCrime.take(2))\n",
    "\n",
    "sqlContext.registerDataFrameAsTable(chicagoCrime, \"chicagoCrime\")\n",
    "aa = sqlContext.sql(\"SELECT * FROM chicagoCrime WHERE Arrest = 'true'\")\n",
    "aa.count() #2928\n"
   ]
  },
  {
   "cell_type": "code",
   "execution_count": 156,
   "metadata": {
    "collapsed": false
   },
   "outputs": [
    {
     "name": "stdout",
     "output_type": "stream",
     "text": [
      "[['1', 'Rogers Park', '7.7', '23.6', '8.7', '18.2', '27.5', '23939', '39'], ['2', 'West Ridge', '7.8', '17.2', '8.8', '20.8', '38.5', '23040', '46']]\n",
      "[Row(Community_Area_Number=1, HARDSHIP_INDEX=39, PERCENT_AGED_16__UNEMPLOYED=8.7, PERCENT_AGED_25__WITHOUT_HIGH_SCHOOL_DIPLOMA=18.2, PERCENT_AGED_UNDER_18_OR_OVER_64=27.5, PERCENT_HOUSEHOLDS_BELOW_POVERTY=23.6, PERCENT_OF_HOUSING_CROWDED=7.7, PER_CAPITA_INCOME=23939)]\n"
     ]
    },
    {
     "data": {
      "text/plain": [
       "77"
      ]
     },
     "execution_count": 156,
     "metadata": {},
     "output_type": "execute_result"
    }
   ],
   "source": [
    "# Chicago Census Data \n",
    "# Note: removed 78th (last) line from the datafile; otherwise cast was not working (bec of missing values) and was getting error\n",
    "data = sc.textFile(\"/Users/nidhimehta/sparkling-water/examples/smalldata/chicagoCensus.csv\")\n",
    "data.first()\n",
    "#remove header\n",
    "header = data.take(1)[0]\n",
    "rows = data.filter(lambda line: line != header)\n",
    "rows.first()\n",
    "rows = rows.map(split)\n",
    "print(rows.take(2))\n",
    "bb = rows.map(lambda c: Row(Community_Area_Number= int(c[0]),PERCENT_OF_HOUSING_CROWDED=float(c[2]),PERCENT_HOUSEHOLDS_BELOW_POVERTY= float(c[3]),\\\n",
    "                                  PERCENT_AGED_16__UNEMPLOYED = float(c[4]),PERCENT_AGED_25__WITHOUT_HIGH_SCHOOL_DIPLOMA = float(c[5]),\\\n",
    "                                  PERCENT_AGED_UNDER_18_OR_OVER_64 = float(c[6]),PER_CAPITA_INCOME=int(c[7]),HARDSHIP_INDEX=int(c[8])))\n",
    "bb.take(1)\n",
    "\n",
    "chicagoCensus = sqlCtx.createDataFrame(bb)\n",
    "print(chicagoCensus.take(1))\n",
    "sqlContext.registerDataFrameAsTable(chicagoCensus, \"chicagoCensus\")\n",
    "aa = sqlContext.sql(\"SELECT * FROM chicagoCensus\")\n",
    "#aa.take(16)\n",
    "aa.count() "
   ]
  },
  {
   "cell_type": "code",
   "execution_count": 158,
   "metadata": {
    "collapsed": false
   },
   "outputs": [
    {
     "name": "stdout",
     "output_type": "stream",
     "text": [
      "13\n",
      "13\n",
      "13\n",
      "  summary   day month     year\n",
      "0   count  5162  5162     5162\n",
      "1    mean 15.71  6.47 2,007.57\n",
      "2  stddev  8.80  3.47     4.08\n",
      "3     min  1.00  1.00 2,001.00\n",
      "4     max 31.00 12.00 2,015.00\n"
     ]
    },
    {
     "data": {
      "text/plain": [
       "5162"
      ]
     },
     "execution_count": 158,
     "metadata": {},
     "output_type": "execute_result"
    }
   ],
   "source": [
    "# Chicago Weather Data\n",
    "data = sc.textFile(\"/Users/nidhimehta/sparkling-water/examples/smalldata/chicagoAllWeather.csv\")\n",
    "#data = sc.textFile(\"/Users/nidhimehta/Desktop/missingvalue_withna.csv\")\n",
    "\n",
    "data.first()\n",
    "#remove header\n",
    "header = data.take(1)[0]\n",
    "rows = data.filter(lambda line: line != header)\n",
    "rows.first()\n",
    "rows = rows.map(split)\n",
    "rows.take(2)\n",
    "# empty string to int: because  missing values are present in  maxTemp, meanTemp and minTemp, cannot cast them to int\n",
    "cc = rows.map(lambda c: Row(month = int(c[1]),day =int(c[2]) ,year= int(c[3]),\\\n",
    "                                  maxTemp=(c[4]),meanTemp =(c[5]),minTemp =(c[6]) ))\n",
    "cc.take(5)\n",
    "\n",
    "chicagoWeather = sqlCtx.createDataFrame(cc)\n",
    "\n",
    "#missing values \n",
    "print(chicagoWeather.filter(chicagoWeather.minTemp == '').count())\n",
    "print(chicagoWeather.filter(chicagoWeather.meanTemp == '').count())\n",
    "print(chicagoWeather.filter(chicagoWeather.maxTemp == '').count())\n",
    "#toint = udf(lambda s: s, IntegerType())\n",
    "#chicagoWeather = chicagoWeather.withColumn(\"num\",toint(chicagoWeather.maxTemp))\n",
    "#print(chicagoWeather.printSchema)\n",
    "\n",
    "\n",
    "def prettySummary(df):\n",
    "    import pandas as pd\n",
    "    temp = df.describe().toPandas()\n",
    "    temp.iloc[1:5,1:] = temp.iloc[1:5,1:].convert_objects(convert_numeric=True)\n",
    "    pd.options.display.float_format = '{:,.2f}'.format\n",
    "    return temp\n",
    "\n",
    "print(prettySummary(chicagoWeather))\n",
    "#chicagoWeather.dtypes\n",
    "#chicagoWeather.convert_objects(convert_numeric=True)\n",
    "#chicagoWeather.convert_objects(convert_numeric=True).dtypes\n",
    "#chicagoWeather.convert_objects(convert_numeric=True)\n",
    "#print(chicagoWeather.take(2))\n",
    "#chicagoWeather = chicagoWeather.dropna()\n",
    "sqlContext.registerDataFrameAsTable(chicagoWeather, \"chicagoWeather\")\n",
    "aa = sqlContext.sql(\"SELECT * FROM chicagoWeather\")\n",
    "aa.count()\n"
   ]
  },
  {
   "cell_type": "code",
   "execution_count": 159,
   "metadata": {
    "collapsed": false
   },
   "outputs": [],
   "source": [
    "crimeWeather = sqlContext.sql(\n",
    "    \"SELECT \\\n",
    "    a.Year, a.Month, a.Day, a.HourOfDay, a.Weekend, a.Season, a.WeekDay, a.WeekNum,\\\n",
    "    a.IUCR, a.Primary_Type, a.Location_Description, a.Community_Area, a.District,\\\n",
    "    a.Arrest, a.Domestic, a.Beat, a.Ward, a.FBI_Code,\\\n",
    "    b.minTemp, b.maxTemp, b.meanTemp,\\\n",
    "    c.PERCENT_AGED_UNDER_18_OR_OVER_64, c.PER_CAPITA_INCOME, c.HARDSHIP_INDEX,\\\n",
    "    c.PERCENT_OF_HOUSING_CROWDED, c.PERCENT_HOUSEHOLDS_BELOW_POVERTY,\\\n",
    "    c.PERCENT_AGED_16__UNEMPLOYED, c.PERCENT_AGED_25__WITHOUT_HIGH_SCHOOL_DIPLOMA\\\n",
    "    FROM chicagoCrime a\\\n",
    "    JOIN chicagoWeather b\\\n",
    "    ON a.Year = b.year AND a.Month = b.month AND a.Day = b.day\\\n",
    "    JOIN chicagoCensus c\\\n",
    "    ON a.Community_Area = c.Community_Area_Number\")\n"
   ]
  },
  {
   "cell_type": "code",
   "execution_count": 161,
   "metadata": {
    "collapsed": false
   },
   "outputs": [
    {
     "data": {
      "text/plain": [
       "Row(Year=2015, Month=1, Day=23, HourOfDay=22, Weekend=0, Season=3, WeekDay=5, WeekNum=4, IUCR=u'143A', Primary_Type=u'WEAPONS VIOLATION', Location_Description=u'ALLEY', Community_Area=31, District=u'012', Arrest=u'true', Domestic=u'false', Beat=1234, Ward=25, FBI_Code=u'15', minTemp=u'29', maxTemp=u'31', meanTemp=u'30', PERCENT_AGED_UNDER_18_OR_OVER_64=32.6, PER_CAPITA_INCOME=16444, HARDSHIP_INDEX=76, PERCENT_OF_HOUSING_CROWDED=9.6, PERCENT_HOUSEHOLDS_BELOW_POVERTY=25.8, PERCENT_AGED_16__UNEMPLOYED=15.8, PERCENT_AGED_25__WITHOUT_HIGH_SCHOOL_DIPLOMA=40.7)"
      ]
     },
     "execution_count": 161,
     "metadata": {},
     "output_type": "execute_result"
    }
   ],
   "source": [
    "crimeWeather.first()"
   ]
  },
  {
   "cell_type": "code",
   "execution_count": 162,
   "metadata": {
    "collapsed": false
   },
   "outputs": [
    {
     "name": "stdout",
     "output_type": "stream",
     "text": [
      "root\n",
      " |-- Year: integer (nullable = true)\n",
      " |-- Month: integer (nullable = true)\n",
      " |-- Day: integer (nullable = true)\n",
      " |-- HourOfDay: integer (nullable = true)\n",
      " |-- Weekend: integer (nullable = true)\n",
      " |-- Season: integer (nullable = true)\n",
      " |-- WeekDay: integer (nullable = true)\n",
      " |-- WeekNum: integer (nullable = true)\n",
      " |-- IUCR: string (nullable = true)\n",
      " |-- Primary_Type: string (nullable = true)\n",
      " |-- Location_Description: string (nullable = true)\n",
      " |-- Community_Area: long (nullable = true)\n",
      " |-- District: string (nullable = true)\n",
      " |-- Arrest: string (nullable = true)\n",
      " |-- Domestic: string (nullable = true)\n",
      " |-- Beat: long (nullable = true)\n",
      " |-- Ward: long (nullable = true)\n",
      " |-- FBI_Code: string (nullable = true)\n",
      " |-- minTemp: string (nullable = true)\n",
      " |-- maxTemp: string (nullable = true)\n",
      " |-- meanTemp: string (nullable = true)\n",
      " |-- PERCENT_AGED_UNDER_18_OR_OVER_64: double (nullable = true)\n",
      " |-- PER_CAPITA_INCOME: long (nullable = true)\n",
      " |-- HARDSHIP_INDEX: long (nullable = true)\n",
      " |-- PERCENT_OF_HOUSING_CROWDED: double (nullable = true)\n",
      " |-- PERCENT_HOUSEHOLDS_BELOW_POVERTY: double (nullable = true)\n",
      " |-- PERCENT_AGED_16__UNEMPLOYED: double (nullable = true)\n",
      " |-- PERCENT_AGED_25__WITHOUT_HIGH_SCHOOL_DIPLOMA: double (nullable = true)\n",
      "\n"
     ]
    }
   ],
   "source": [
    "crimeWeather.printSchema()"
   ]
  },
  {
   "cell_type": "code",
   "execution_count": null,
   "metadata": {
    "collapsed": true
   },
   "outputs": [],
   "source": [
    "#toint = udf(lambda s: s, IntegerType())\n",
    "#chicagoWeather = chicagoWeather.withColumn(\"num\",toint(chicagoWeather.maxTemp))\n",
    "\n",
    "#def toInt():\n",
    "#    def _toInt(dt):\n",
    "#        return dt\n",
    "#    return udf(_toInt, IntegerType())\n",
    "\n",
    "#chicagoWeather = chicagoWeather.withColumn(\"MaxT\", toInt()(chicagoWeather.maxTemp))\n",
    "\n"
   ]
  }
 ],
 "metadata": {
  "kernelspec": {
   "display_name": "pySpark (Spark 1.5.0)",
   "language": "python",
   "name": "pyspark"
  },
  "language_info": {
   "codemirror_mode": {
    "name": "ipython",
    "version": 2
   },
   "file_extension": ".py",
   "mimetype": "text/x-python",
   "name": "python",
   "nbconvert_exporter": "python",
   "pygments_lexer": "ipython2",
   "version": "2.7.6"
  }
 },
 "nbformat": 4,
 "nbformat_minor": 0
}
